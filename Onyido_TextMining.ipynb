{
 "cells": [
  {
   "cell_type": "markdown",
   "metadata": {},
   "source": [
    "# Text Mining\n",
    "## Assignment 1"
   ]
  },
  {
   "cell_type": "markdown",
   "metadata": {},
   "source": [
    "_Name_: Onyido Tochukwu Desmond \n",
    "\n",
    "_Matriculation Number_: 87635"
   ]
  },
  {
   "cell_type": "code",
   "execution_count": 26,
   "metadata": {},
   "outputs": [],
   "source": [
    "# Check if running correct version\n",
    "import re\n",
    "import sys\n",
    "if sys.version_info.major != 3:\n",
    "    raise ValueError(\"You must use Python 3.\")\n",
    "if sys.version_info.minor < 4 :\n",
    "    raise ValueError(\"You must use at least Python 3.4\")\n",
    "if sys.version_info.minor < 6:\n",
    "    print(\"Recommended Python Version is 3.6\")"
   ]
  },
  {
   "cell_type": "markdown",
   "metadata": {},
   "source": [
    "## 1.1 Phone Numbers\n",
    "\n",
    "The German country code is always _+49_ or _0049_. If a country code is given, the next number cannot be a _0_. If this number starts with a _1_, it is a mobile phone. In this case, the next three numbers (with the _1_) are the area code. The remaining numbers are the number.\n",
    "If it is not a mobile number, just use the remaining numbers. (Meaning: No area code detection, if not a mobile number)"
   ]
  },
  {
   "cell_type": "code",
   "execution_count": 27,
   "metadata": {},
   "outputs": [],
   "source": [
    "test_phone_numbers = [\n",
    "    \"+49174321324\",\n",
    "    \"0164883423\",\n",
    "    \"0049(0)16483311724\",\n",
    "    \"+49-8332-3010\",\n",
    "    \"00498513994\",\n",
    "    \"0164 5554454\",\n",
    "    \"0851 509\",\n",
    "    \"0851 509-0\",\n",
    "    \"(0851) 3394\"\n",
    "]"
   ]
  },
  {
   "cell_type": "code",
   "execution_count": 28,
   "metadata": {},
   "outputs": [],
   "source": [
    "gold_phone_numbers = [\n",
    "    \"+49 174 321324\",\n",
    "    \"+49 164 883423\",\n",
    "    \"+49 164 83311724\",\n",
    "    \"+49 83323010\",\n",
    "    \"+49 8513994\",\n",
    "    \"+49 164 5554454\",\n",
    "    \"+49 851509\",\n",
    "    \"+49 8515090\",\n",
    "    \"+49 8513394\"\n",
    "]"
   ]
  },
  {
   "cell_type": "code",
   "execution_count": 29,
   "metadata": {},
   "outputs": [],
   "source": [
    "def validate_phone(parsed_numbers):\n",
    "    for parsed, test, gold in zip(parsed_numbers, test_phone_numbers, gold_phone_numbers):\n",
    "        if parsed != gold:\n",
    "            print(\"WRONG   → \\n\\t Input : {}\\n\\t Gold  : {}\\n\\t Parsed: {}\".format(test, gold, parsed))\n",
    "        else:\n",
    "            print(\"CORRECT → \\n\\t Input : {}\\n\\t Gold  : {}\\n\\t Parsed: {}\".format(test, gold, parsed))"
   ]
  },
  {
   "cell_type": "markdown",
   "metadata": {},
   "source": [
    "### add your code here\n",
    "\n",
    "You should produce a list _parsed_ of the parsed phone numbers.\n",
    "When calling _validate_phone(parsed)_ it should only print CORRECT."
   ]
  },
  {
   "cell_type": "code",
   "execution_count": 30,
   "metadata": {},
   "outputs": [
    {
     "name": "stdout",
     "output_type": "stream",
     "text": [
      "CORRECT → \n",
      "\t Input : +49174321324\n",
      "\t Gold  : +49 174 321324\n",
      "\t Parsed: +49 174 321324\n",
      "CORRECT → \n",
      "\t Input : +49164883423\n",
      "\t Gold  : +49 164 883423\n",
      "\t Parsed: +49 164 883423\n",
      "CORRECT → \n",
      "\t Input : +4916483311724\n",
      "\t Gold  : +49 164 83311724\n",
      "\t Parsed: +49 164 83311724\n",
      "CORRECT → \n",
      "\t Input : +4983323010\n",
      "\t Gold  : +49 83323010\n",
      "\t Parsed: +49 83323010\n",
      "CORRECT → \n",
      "\t Input : +498513994\n",
      "\t Gold  : +49 8513994\n",
      "\t Parsed: +49 8513994\n",
      "CORRECT → \n",
      "\t Input : +491645554454\n",
      "\t Gold  : +49 164 5554454\n",
      "\t Parsed: +49 164 5554454\n",
      "CORRECT → \n",
      "\t Input : +49851509\n",
      "\t Gold  : +49 851509\n",
      "\t Parsed: +49 851509\n",
      "CORRECT → \n",
      "\t Input : +498515090\n",
      "\t Gold  : +49 8515090\n",
      "\t Parsed: +49 8515090\n",
      "CORRECT → \n",
      "\t Input : +498513394\n",
      "\t Gold  : +49 8513394\n",
      "\t Parsed: +49 8513394\n"
     ]
    }
   ],
   "source": [
    "for ind_num in range(len(test_phone_numbers)):\n",
    "    test_phone_numbers[ind_num] = re.sub(\"[(())]|-\",\"\", test_phone_numbers[ind_num]) \n",
    "for ind_num in range(len(test_phone_numbers)):\n",
    "    test_phone_numbers[ind_num] = re.sub(\"^00490|^0049|^0\",\"+49 \", test_phone_numbers[ind_num])    \n",
    "for ind_num in range(len(test_phone_numbers)):\n",
    "    test_phone_numbers[ind_num] = re.sub(\"\\s\",\"\", test_phone_numbers[ind_num])\n",
    "    \n",
    "parsed = []\n",
    "mobile = r'^\\+491[0-9]\\d\\d[0-9]{1,20}'\n",
    "landline = r'^\\+49[2-9][0-9]{1,20}'\n",
    "\n",
    "for ind_num in test_phone_numbers:\n",
    "    if re.match(mobile, ind_num):\n",
    "        ind_num = ind_num[0:3] + ' ' + ind_num[3:6] + ' ' + ind_num[6:]\n",
    "        parsed.append(ind_num)\n",
    "        \n",
    "    elif re.match(landline, ind_num):\n",
    "        ind_num = ind_num[0:3] + ' ' + ind_num[3:]\n",
    "        parsed.append(ind_num)\n",
    "\n",
    "validate_phone(parsed)\n",
    "    "
   ]
  },
  {
   "cell_type": "markdown",
   "metadata": {},
   "source": [
    "## 1.2 Email Addresses"
   ]
  },
  {
   "cell_type": "code",
   "execution_count": 31,
   "metadata": {},
   "outputs": [],
   "source": [
    "test_emails = [\n",
    "    \"peter.mueller@uni-passau.de\",\n",
    "    \"peter dot mueller at uni-passau dot de\",\n",
    "    \"peter.mueller(at)uni-passau.de\",\n",
    "    \"peter.mueller (at) uni-passau.de\",\n",
    "    \"nefullword@gw.uni-passau.de\",\n",
    "    \"peter (dot) mueller (at) uni-passau (dot) de\",\n",
    "    \"other.host@gmail.com\",\n",
    "    \"special-chars (at) live.com\"\n",
    "]"
   ]
  },
  {
   "cell_type": "code",
   "execution_count": 32,
   "metadata": {},
   "outputs": [],
   "source": [
    "gold_emails = [\n",
    "    \"peter.mueller@uni-passau.de\",\n",
    "    \"peter.mueller@uni-passau.de\",\n",
    "    \"peter.mueller@uni-passau.de\",\n",
    "    \"peter.mueller@uni-passau.de\",\n",
    "    \"nefullword@gw.uni-passau.de\",\n",
    "    \"peter.mueller@uni-passau.de\",\n",
    "    \"other.host@gmail.com\",\n",
    "    \"special-chars@live.com\"\n",
    "]"
   ]
  },
  {
   "cell_type": "code",
   "execution_count": 33,
   "metadata": {},
   "outputs": [],
   "source": [
    "def validate_email(parsed_emails):\n",
    "    for parsed, test, gold in zip(parsed_emails, test_emails, gold_emails):\n",
    "        if parsed != gold:\n",
    "            print(\"WRONG   → \\n\\t Input : {}\\n\\t Gold  : {}\\n\\t Parsed: {}\".format(test, gold, parsed))\n",
    "        else:\n",
    "            print(\"CORRECT → \\n\\t Input : {}\\n\\t Gold  : {}\\n\\t Parsed: {}\".format(test, gold, parsed))"
   ]
  },
  {
   "cell_type": "markdown",
   "metadata": {},
   "source": [
    "### add your code here\n",
    "\n",
    "You should produce a list _parsed_ of the parsed phone numbers.\n",
    "When calling _validate_phone(parsed)_ it should only print CORRECT."
   ]
  },
  {
   "cell_type": "code",
   "execution_count": 25,
   "metadata": {},
   "outputs": [
    {
     "name": "stdout",
     "output_type": "stream",
     "text": [
      "CORRECT → \n",
      "\t Input : peter.mueller@uni-passau.de\n",
      "\t Gold  : peter.mueller@uni-passau.de\n",
      "\t Parsed: peter.mueller@uni-passau.de\n",
      "CORRECT → \n",
      "\t Input : peter.mueller@uni-passau.de\n",
      "\t Gold  : peter.mueller@uni-passau.de\n",
      "\t Parsed: peter.mueller@uni-passau.de\n",
      "CORRECT → \n",
      "\t Input : peter.mueller@uni-passau.de\n",
      "\t Gold  : peter.mueller@uni-passau.de\n",
      "\t Parsed: peter.mueller@uni-passau.de\n",
      "CORRECT → \n",
      "\t Input : peter.mueller@uni-passau.de\n",
      "\t Gold  : peter.mueller@uni-passau.de\n",
      "\t Parsed: peter.mueller@uni-passau.de\n",
      "CORRECT → \n",
      "\t Input : nefullword@gw.uni-passau.de\n",
      "\t Gold  : nefullword@gw.uni-passau.de\n",
      "\t Parsed: nefullword@gw.uni-passau.de\n",
      "CORRECT → \n",
      "\t Input : peter.mueller@uni-passau.de\n",
      "\t Gold  : peter.mueller@uni-passau.de\n",
      "\t Parsed: peter.mueller@uni-passau.de\n",
      "CORRECT → \n",
      "\t Input : other.host@gmail.com\n",
      "\t Gold  : other.host@gmail.com\n",
      "\t Parsed: other.host@gmail.com\n",
      "CORRECT → \n",
      "\t Input : special-chars@live.com\n",
      "\t Gold  : special-chars@live.com\n",
      "\t Parsed: special-chars@live.com\n"
     ]
    }
   ],
   "source": [
    "for ind_e in range(len(test_emails)):\n",
    "    test_emails[ind_e] = re.sub(\"[()]\", \"  \", test_emails[ind_e])\n",
    "for ind_e in range(len(test_emails)):\n",
    "    test_emails[ind_e] = re.sub(\" dot \", \".\", test_emails[ind_e])\n",
    "for ind_e in range(len(test_emails)):\n",
    "    test_emails[ind_e] = re.sub(\" at \", \"@\", test_emails[ind_e])\n",
    "for ind_e in range(len(test_emails)):\n",
    "    test_emails[ind_e] = re.sub(\"\\s\", \"\", test_emails[ind_e])\n",
    "\n",
    "\n",
    "ind_e = 0\n",
    "while ind_e< len(test_emails):\n",
    "    test_emails[ind_e] = re.sub(\"[()]\", \"  \", test_emails[ind_e])\n",
    "    test_emails[ind_e] = re.sub(\" dot \", \".\", test_emails[ind_e])    \n",
    "    test_emails[ind_e] = re.sub(\" at \", \"@\", test_emails[ind_e])\n",
    "    test_emails[ind_e] = re.sub(\"\\s\", \"\", test_emails[ind_e])\n",
    "    ind_e += 1\n",
    "\n",
    "\n",
    "\n",
    "email = r'(^[a-zA-Z0-9_.+-]+@[a-zA-Z0-9-]+\\.[a-zA-Z0-9-.]+)'\n",
    "\n",
    "parsed = [ ]\n",
    "\n",
    "\n",
    "\n",
    "\n",
    "ind_e = 0\n",
    "while ind_e < len(test_emails):\n",
    "    r = re.compile(email)\n",
    "    a = filter(r.match, test_emails)\n",
    "    parsed.append(test_emails[ind_e])\n",
    "    ind_e += 1    \n",
    "\n",
    "validate_email(parsed)"
   ]
  },
  {
   "cell_type": "code",
   "execution_count": null,
   "metadata": {},
   "outputs": [],
   "source": []
  },
  {
   "cell_type": "code",
   "execution_count": null,
   "metadata": {},
   "outputs": [],
   "source": []
  },
  {
   "cell_type": "code",
   "execution_count": null,
   "metadata": {},
   "outputs": [],
   "source": []
  }
 ],
 "metadata": {
  "kernelspec": {
   "display_name": "Python 3",
   "language": "python",
   "name": "python3"
  },
  "language_info": {
   "codemirror_mode": {
    "name": "ipython",
    "version": 3
   },
   "file_extension": ".py",
   "mimetype": "text/x-python",
   "name": "python",
   "nbconvert_exporter": "python",
   "pygments_lexer": "ipython3",
   "version": "3.7.3"
  }
 },
 "nbformat": 4,
 "nbformat_minor": 2
}
